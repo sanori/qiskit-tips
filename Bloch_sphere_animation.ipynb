{
 "cells": [
  {
   "cell_type": "markdown",
   "id": "significant-practice",
   "metadata": {},
   "source": [
    "# Bloch Sphere Animation using Qiskit\n",
    "\n",
    "Qiskit can create animated videos of Bloch Sphere changes. Qiskit's visualization feature allows you to see how the quantum state changes depending on the quantum gate through the Bloch Sphere animation. It would be helpful to understand how quantum gates change the state of a qubit.\n",
    "\n",
    "This notebook introduces how to create and view animations of Bloch Spheres.\n",
    "\n",
    "First, make a quantum circuit to get the qubit for us to observe. And add a quantum gate to watch the change in the corresponding qubit. You can check the circuit diagram created using the `draw` method."
   ]
  },
  {
   "cell_type": "code",
   "execution_count": null,
   "id": "exclusive-darkness",
   "metadata": {
    "scrolled": true
   },
   "outputs": [],
   "source": [
    "from qiskit import QuantumCircuit\n",
    "qc = QuantumCircuit(1)\n",
    "qc.x(0)\n",
    "qc.draw('mpl')"
   ]
  },
  {
   "cell_type": "markdown",
   "id": "random-memorial",
   "metadata": {},
   "source": [
    "The `visualize_transition` function creates the animation of the Bloch sphere. Creating an animation takes time, so be patient."
   ]
  },
  {
   "cell_type": "code",
   "execution_count": null,
   "id": "ordinary-banking",
   "metadata": {
    "scrolled": false
   },
   "outputs": [],
   "source": [
    "from qiskit.visualization import visualize_transition\n",
    "visualize_transition(qc)"
   ]
  },
  {
   "cell_type": "markdown",
   "id": "entitled-asthma",
   "metadata": {},
   "source": [
    "By operating the animation controls, such as the play(▶️) and the pause(⏸️) button, located at the bottom of the image, you can control the animation and grasp the quantum state change.\n",
    "\n",
    "You can also see the changes for a series of gates."
   ]
  },
  {
   "cell_type": "code",
   "execution_count": null,
   "id": "legendary-wells",
   "metadata": {
    "scrolled": true
   },
   "outputs": [],
   "source": [
    "qc = QuantumCircuit(1)\n",
    "qc.x(0)\n",
    "qc.y(0)\n",
    "qc.h(0)\n",
    "qc.draw('mpl')"
   ]
  },
  {
   "cell_type": "markdown",
   "id": "exciting-database",
   "metadata": {},
   "source": [
    " Notice that the animation shows the gate applied at **the top left corner**."
   ]
  },
  {
   "cell_type": "code",
   "execution_count": null,
   "id": "academic-parade",
   "metadata": {},
   "outputs": [],
   "source": [
    "visualize_transition(qc)"
   ]
  },
  {
   "cell_type": "markdown",
   "id": "multiple-falls",
   "metadata": {},
   "source": [
    "Unfortunately, the `visualize_transition` function can only show for one qubit. Therefore, it does not work for a quantum circuit composed of more than two qubits.\n",
    "\n",
    "Please refer to the following Qiskit manual for more information:\n",
    "https://qiskit.org/documentation/stubs/qiskit.visualization.visualize_transition.html\n"
   ]
  },
  {
   "cell_type": "markdown",
   "id": "greenhouse-occupation",
   "metadata": {},
   "source": []
  }
 ],
 "metadata": {
  "kernelspec": {
   "display_name": "Python 3",
   "language": "python",
   "name": "python3"
  },
  "language_info": {
   "codemirror_mode": {
    "name": "ipython",
    "version": 3
   },
   "file_extension": ".py",
   "mimetype": "text/x-python",
   "name": "python",
   "nbconvert_exporter": "python",
   "pygments_lexer": "ipython3",
   "version": "3.8.6"
  }
 },
 "nbformat": 4,
 "nbformat_minor": 5
}
